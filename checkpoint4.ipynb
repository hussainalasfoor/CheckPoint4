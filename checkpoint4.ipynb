{
 "metadata": {
  "language_info": {
   "codemirror_mode": {
    "name": "ipython",
    "version": 3
   },
   "file_extension": ".py",
   "mimetype": "text/x-python",
   "name": "python",
   "nbconvert_exporter": "python",
   "pygments_lexer": "ipython3",
   "version": "3.9.2"
  },
  "orig_nbformat": 2,
  "kernelspec": {
   "name": "python392jvsc74a57bd0dcacb0086e9a4f4eabd41c33bf4faac5ea0a3337ed3f5eff0680afa930572c04",
   "display_name": "Python 3.9.2 64-bit"
  },
  "metadata": {
   "interpreter": {
    "hash": "dcacb0086e9a4f4eabd41c33bf4faac5ea0a3337ed3f5eff0680afa930572c04"
   }
  }
 },
 "nbformat": 4,
 "nbformat_minor": 2,
 "cells": [
  {
   "cell_type": "code",
   "execution_count": null,
   "metadata": {},
   "outputs": [],
   "source": [
    "import matplotlib.pyplot as plt \n",
    "import pandas as pd\n",
    "import numpy as np \n",
    "import missingno as msno\n",
    "import math\n",
    "import seaborn as sns\n",
    "from sklearn.preprocessing import LabelEncoder\n",
    "from sklearn.model_selection import train_test_split\n",
    "from sklearn.linear_model import LinearRegression\n",
    "from sklearn import metrics\n",
    "from sklearn.metrics import mean_squared_error\n",
    "from sklearn.preprocessing import PolynomialFeatures\n",
    "from collections import Counter\n",
    "import statsmodels.formula.api as smf\n"
   ]
  },
  {
   "cell_type": "code",
   "execution_count": null,
   "metadata": {},
   "outputs": [],
   "source": [
    "house = pd.read_csv(\"kc_house_data.csv\")\n",
    "house"
   ]
  },
  {
   "cell_type": "code",
   "execution_count": null,
   "metadata": {},
   "outputs": [],
   "source": [
    "house.info()\n",
    "house.shape"
   ]
  },
  {
   "cell_type": "code",
   "execution_count": null,
   "metadata": {},
   "outputs": [],
   "source": [
    "house.describe()"
   ]
  },
  {
   "cell_type": "code",
   "execution_count": null,
   "metadata": {},
   "outputs": [],
   "source": [
    "msno.matrix(house)\n",
    "house.isnull().sum()"
   ]
  },
  {
   "cell_type": "code",
   "execution_count": null,
   "metadata": {},
   "outputs": [],
   "source": [
    "house[\"date\"] = pd.to_datetime(house[\"date\"], format=\"%Y%m%dT000000\")\n",
    "house[\"date\"].head(2)\n",
    "house.drop('date', axis='columns',inplace=True)\n",
    "house.drop('id', axis='columns', inplace=True)\n",
    "house.drop('zipcode', axis='columns', inplace=True)\n",
    "# date , id , zipcode , aren't effective for the features selection of the model\n",
    "\n",
    "\n",
    "        "
   ]
  },
  {
   "cell_type": "code",
   "execution_count": null,
   "metadata": {},
   "outputs": [],
   "source": [
    "house.head(2)\n",
    "house.shape\n",
    "house.iloc[:,1:]\n",
    "house.iloc[:,:1]"
   ]
  },
  {
   "cell_type": "code",
   "execution_count": null,
   "metadata": {},
   "outputs": [],
   "source": [
    "pd.DataFrame(house.corr()['price']).sort_values(by='price',ascending=False)"
   ]
  },
  {
   "cell_type": "code",
   "execution_count": null,
   "metadata": {},
   "outputs": [],
   "source": [
    "def resizeplot(l,a):\n",
    "    plt.figure(figsize=(l,a))\n",
    "resizeplot(16,7)\n",
    "sns.heatmap(house.corr(),annot=True)"
   ]
  },
  {
   "cell_type": "code",
   "execution_count": null,
   "metadata": {},
   "outputs": [],
   "source": [
    "x= house[\"price\"]\n",
    "y= house[\"sqft_living\"]\n",
    "with sns.axes_style(\"ticks\", {\"xtick.major.size\": 10, \"ytick.major.size\": 10}):\n",
    "    sns.jointplot(x, y, data = house)"
   ]
  },
  {
   "cell_type": "code",
   "execution_count": null,
   "metadata": {},
   "outputs": [],
   "source": [
    "print(Counter(house.bedrooms))\n",
    "sns.countplot((house.bedrooms), order=house.bedrooms.value_counts().index)\n",
    "plt.title(\"No of Bedrooms count\")\n"
   ]
  },
  {
   "cell_type": "code",
   "execution_count": null,
   "metadata": {},
   "outputs": [],
   "source": [
    "print(Counter(house.view))\n",
    "sns.countplot((house.view), order=house.view.value_counts().index)\n",
    "plt.title(\"No of views count\")"
   ]
  },
  {
   "cell_type": "code",
   "execution_count": null,
   "metadata": {},
   "outputs": [],
   "source": [
    "x = np.array(house[['sqft_living']].values)\n",
    "y = np.array(house[['price']].values)\n",
    "type(x), type(y),x.shape,y.shape"
   ]
  },
  {
   "cell_type": "code",
   "execution_count": null,
   "metadata": {},
   "outputs": [],
   "source": [
    "\n",
    "x_train , x_test , y_train ,y_test = train_test_split(x,y,test_size = 0.35 ,random_state = 40)\n",
    "model = LinearRegression()\n",
    "model.fit(x_train,y_train)\n",
    "predicted = model.predict(x_test)\n",
    "predicted.shape, x_test.shape , x_train.shape , y_test.shape , y_train.shape"
   ]
  },
  {
   "cell_type": "code",
   "execution_count": null,
   "metadata": {},
   "outputs": [],
   "source": [
    "print(\"MSE\", mean_squared_error(y_test,predicted))\n",
    "print(\"R squared\", metrics.r2_score(y_test,predicted))"
   ]
  },
  {
   "cell_type": "code",
   "execution_count": null,
   "metadata": {},
   "outputs": [],
   "source": [
    "plt.scatter(x,y,color =\"g\")\n",
    "plt.title(\"LinearRegression\")\n",
    "plt.xlabel(\"sqft_living\")\n",
    "plt.ylabel(\"price\")\n",
    "plt.plot(x, model.predict(x), color=\"r\")"
   ]
  },
  {
   "cell_type": "code",
   "execution_count": null,
   "metadata": {},
   "outputs": [],
   "source": [
    "with sns.plotting_context(\"paper\",font_scale=2.5):#paper, notebook, talk, poster\n",
    "    g = sns.pairplot(house[['sqft_lot','sqft_above','price','bedrooms','sqft_living']], \n",
    "                 hue='bedrooms', palette='tab20',height=6)\n",
    "g.set(xticklabels=[])"
   ]
  },
  {
   "cell_type": "code",
   "execution_count": null,
   "metadata": {},
   "outputs": [],
   "source": [
    "x = np.array(house[['sqft_living']].values)\n",
    "y = np.array(house[['price']].values)\n",
    "x_train , x_test , y_train ,y_test = train_test_split(x,y,test_size = 0.35 ,random_state = 40)\n",
    "model = LinearRegression()\n",
    "model.fit(x_train,y_train)\n",
    "predicted = model.predict(x_test)\n",
    "print(\"MSE\", mean_squared_error(y_test,predicted))\n",
    "print(\"R squared\", metrics.r2_score(y_test,predicted))"
   ]
  },
  {
   "cell_type": "code",
   "execution_count": null,
   "metadata": {},
   "outputs": [],
   "source": [
    "x = np.array(house[['grade','sqft_lot15']].values)\n",
    "y = np.array(house['price'])\n",
    "type(x), type(y),x.shape,y.shape\n",
    "x_train , x_test , y_train ,y_test = train_test_split(x,y,test_size = 0.2 ,random_state = 40)\n",
    "model = LinearRegression()\n",
    "model.fit(x_train,y_train)\n",
    "predicted = np.array(model.predict(x_test))\n",
    "#predicted, .shape , x_train.shape , y_test.shape , y_train.shape,x.shape,y.shape"
   ]
  },
  {
   "cell_type": "code",
   "execution_count": null,
   "metadata": {},
   "outputs": [],
   "source": [
    "print(\"MSE\", mean_squared_error(y_test,predicted))\n",
    "print(\"R squared\", metrics.r2_score(y_test,predicted))"
   ]
  },
  {
   "cell_type": "code",
   "execution_count": null,
   "metadata": {},
   "outputs": [],
   "source": [
    "x = np.array(house[['bedrooms','floors','bathrooms','sqft_living','sqft_lot','floors','waterfront','view','condition','grade','sqft_above','sqft_basement','sqft_living15','sqft_lot15']].values)\n",
    "y = np.array(house[['price']].values)\n",
    "x_train, x_test, y_train, y_test = train_test_split(x, y, test_size=0.22, random_state=700) \n",
    "lg = LinearRegression() \n",
    "poly = PolynomialFeatures(degree =2) \n",
    "x_train_=poly.fit_transform(x_train)\n",
    "lg.fit(x_train_, y_train)\n",
    "x_test_=poly.fit_transform(x_test)\n",
    "predicted = lg.predict(x_test_)\n",
    "print(x.shape,y.shape, x_train.shape,x_train_.shape,x_test.shape, x_test_.shape , y_test.shape,y_train.shape,predicted.shape)\n",
    "print(\"MSE\", mean_squared_error(y_test,predicted))\n",
    "print(\"R squared\", metrics.r2_score(y_test,predicted))"
   ]
  },
  {
   "cell_type": "code",
   "execution_count": null,
   "metadata": {},
   "outputs": [],
   "source": [
    "\"\"\"multi-linear regression (let's call it mlr) model vs linear one(lr), R squared score for the lr (0.4996) was better than the mlr one (0.45529), maybe due the wrong selection of the feature,on the other hand,the Polynomial regression model was in the lead with R squared score of (0.704371) more than both of the previous models \"\"\""
   ]
  }
 ]
}